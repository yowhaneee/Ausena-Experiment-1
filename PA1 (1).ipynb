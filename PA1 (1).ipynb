{
 "cells": [
  {
   "cell_type": "code",
   "execution_count": 1,
   "id": "663e3fa0-947d-47fb-8090-997b89501015",
   "metadata": {},
   "outputs": [
    {
     "name": "stdin",
     "output_type": "stream",
     "text": [
      "Enter a word:  HELLU\n"
     ]
    },
    {
     "name": "stdout",
     "output_type": "stream",
     "text": [
      "Alphabetical order: ehllu\n"
     ]
    }
   ],
   "source": [
    "def alphabet_soup():\n",
    "    # Make the user input a word\n",
    "    input_string = input(\"Enter a word: \")\n",
    "    \n",
    "    # Convert the string to lowercase\n",
    "    input_string = input_string.lower()\n",
    "    \n",
    "    # Initialize an empty string to store the sorted characters\n",
    "    sorted_string = \"\"\n",
    "    \n",
    "    # Loop through each character in the alphabet\n",
    "    for current_char in range(ord('a'), ord('z') + 1):\n",
    "        # Loop through each character in the input string\n",
    "        for char in input_string:\n",
    "            # If the current character in the alphabet matches the character in the input string\n",
    "            if chr(current_char) == char:\n",
    "                # Add the character to the sorted string\n",
    "                sorted_string += char\n",
    "    \n",
    "    # Print the sorted string\n",
    "    print(\"Alphabetical order:\", sorted_string)\n",
    "\n",
    "# Call the function to execute\n",
    "alphabet_soup()"
   ]
  },
  {
   "cell_type": "code",
   "execution_count": 3,
   "id": "036fb57f-6a4e-4528-9e9b-a27fe2106b57",
   "metadata": {},
   "outputs": [
    {
     "name": "stdin",
     "output_type": "stream",
     "text": [
      "Enter a sentence:  I wanna be mad at you\n"
     ]
    },
    {
     "name": "stdout",
     "output_type": "stream",
     "text": [
      "Emotified sentence: I wanna be >:( at you\n"
     ]
    }
   ],
   "source": [
    "def emotify():\n",
    "    # Make the user input a sentence\n",
    "    sentence = input(\"Enter a sentence: \")\n",
    "\n",
    "    # Define a dictionary with words as keys and their corresponding emoticons as values\n",
    "    emoticon_dict = {\n",
    "        \"smile\": \":)\",\n",
    "        \"grin\": \":D\",\n",
    "        \"sad\": \":((\",\n",
    "        \"mad\": \">:(\"\n",
    "    }\n",
    "    \n",
    "    # Split the sentence into words\n",
    "    words = sentence.split()\n",
    "    \n",
    "    # Replace words with their corresponding emoticons\n",
    "    for i in range(len(words)):\n",
    "        if words[i] in emoticon_dict:\n",
    "            words[i] = emoticon_dict[words[i]]\n",
    "    \n",
    "    # Join the words back into a single string\n",
    "    emotified_sentence = \" \".join(words)\n",
    "    \n",
    "    # Print the emotified sentence\n",
    "    print(\"Emotified sentence:\", emotified_sentence)\n",
    "\n",
    "# Call the function to execute\n",
    "emotify()"
   ]
  },
  {
   "cell_type": "code",
   "execution_count": 5,
   "id": "4fbfe1b6-585b-4e23-917e-25ae425bae4d",
   "metadata": {},
   "outputs": [
    {
     "name": "stdin",
     "output_type": "stream",
     "text": [
      "Enter a list of numbers separated by commas (e.g., 1,2,3,4,5,6):  7,8,9,5,3,2,6,2,1,12,32,43,98\n"
     ]
    },
    {
     "name": "stdout",
     "output_type": "stream",
     "text": [
      "first: 7\n",
      "middle: [1, 2, 2, 3, 5, 6, 8, 9, 12, 32, 43]\n",
      "last: 98\n"
     ]
    }
   ],
   "source": [
    "def unpack_list():\n",
    "    # Prompt the user to enter a list of numbers separated by commas\n",
    "    input_string = input(\"Enter a list of numbers separated by commas (e.g., 1,2,3,4,5,6): \")\n",
    "    \n",
    "    # Convert the input string to a list of integers\n",
    "    # First, split the string by commas, then convert each split value to an integer\n",
    "    lst = [int(x) for x in input_string.split(',')]\n",
    "    \n",
    "    # Check if the list has at least 3 elements\n",
    "    if len(lst) < 3:\n",
    "        print(\"The list must contain at least 3 elements.\")\n",
    "        return\n",
    "    \n",
    "    # Unpack the list into variables\n",
    "    # Use unpacking with the * operator to capture the middle elements\n",
    "    first, *middle, last = lst\n",
    "\n",
    "    # Sort the middle numbers from least to greatest\n",
    "    middle.sort()\n",
    "    \n",
    "    # Print the variables\n",
    "    print(\"first:\", first)\n",
    "    print(\"middle:\", middle)\n",
    "    print(\"last:\", last)\n",
    "\n",
    "# Call the function to run the program\n",
    "unpack_list()"
   ]
  },
  {
   "cell_type": "code",
   "execution_count": null,
   "id": "d5959e87-c72b-4276-9b9d-6a4a99e4a51a",
   "metadata": {},
   "outputs": [],
   "source": []
  }
 ],
 "metadata": {
  "kernelspec": {
   "display_name": "Python 3 (ipykernel)",
   "language": "python",
   "name": "python3"
  },
  "language_info": {
   "codemirror_mode": {
    "name": "ipython",
    "version": 3
   },
   "file_extension": ".py",
   "mimetype": "text/x-python",
   "name": "python",
   "nbconvert_exporter": "python",
   "pygments_lexer": "ipython3",
   "version": "3.12.4"
  }
 },
 "nbformat": 4,
 "nbformat_minor": 5
}
